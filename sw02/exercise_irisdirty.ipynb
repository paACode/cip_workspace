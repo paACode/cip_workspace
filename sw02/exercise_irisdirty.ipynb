{
 "cells": [
  {
   "metadata": {},
   "cell_type": "markdown",
   "source": "## Load Data",
   "id": "bdf82b3939d5274d"
  },
  {
   "metadata": {
    "collapsed": true,
    "ExecuteTime": {
     "end_time": "2025-10-03T08:45:16.378095Z",
     "start_time": "2025-10-03T08:45:15.757742Z"
    }
   },
   "cell_type": "code",
   "source": [
    "import pandas as pd\n",
    "url_dirty = \"https://raw.githubusercontent.com/DJCordhose/ml-examples/master/datasets/Iris/iris_dirty.csv\"\n",
    "\n",
    "url_clean =\"https://raw.githubusercontent.com/DJCordhose/ml-examples/master/datasets/Iris/iris.data\"\n",
    "\n",
    "\n",
    "dirty_df = pd.read_csv(url_dirty, header=None)\n",
    "clean_df = pd.read_csv(url_clean, header=None)"
   ],
   "id": "2c623eec6179d0a8",
   "outputs": [],
   "execution_count": 13
  },
  {
   "metadata": {},
   "cell_type": "markdown",
   "source": [
    "Dirty Data Set: comes with 151 Observation and 5 Columns\n",
    "Clean Data Set: comes wth 150 Observations and 5 Columns"
   ],
   "id": "7d3936115ade5dca"
  },
  {
   "metadata": {
    "ExecuteTime": {
     "end_time": "2025-10-03T08:45:20.299908Z",
     "start_time": "2025-10-03T08:45:20.296964Z"
    }
   },
   "cell_type": "code",
   "outputs": [
    {
     "name": "stdout",
     "output_type": "stream",
     "text": [
      "(151, 5)\n",
      "(150, 5)\n"
     ]
    }
   ],
   "execution_count": 14,
   "source": [
    "print(dirty_df.shape)\n",
    "print(clean_df.shape)"
   ],
   "id": "142734e0e0ed36e8"
  },
  {
   "metadata": {},
   "cell_type": "markdown",
   "source": "The dirty dataset uses object for strings. So we see that colum with index 3 is an object instead of float",
   "id": "70e4ca377134cdf2"
  },
  {
   "metadata": {
    "ExecuteTime": {
     "end_time": "2025-10-03T08:52:44.506264Z",
     "start_time": "2025-10-03T08:52:44.499216Z"
    }
   },
   "cell_type": "code",
   "source": [
    "print(dirty_df.head())\n",
    "print(dirty_df.dtypes)\n",
    "print(clean_df.head())\n",
    "print(clean_df.dtypes)"
   ],
   "id": "71563dc4e2ea3213",
   "outputs": [
    {
     "name": "stdout",
     "output_type": "stream",
     "text": [
      "     0    1    2     3            4\n",
      "0  5.1  3.5  1.4  2 mm  Iris-setosa\n",
      "1  4.9  3.0  1.4  2 mm  Iris-setosa\n",
      "2  4.7  3.2  1.3  2 mm  Iris-setosa\n",
      "3  4.6  3.1  1.5  2 mm  Iris-setosa\n",
      "4  5.0  3.6  1.4  2 mm  Iris-setosa\n",
      "0    float64\n",
      "1    float64\n",
      "2    float64\n",
      "3     object\n",
      "4     object\n",
      "dtype: object\n",
      "     0    1    2    3            4\n",
      "0  5.1  3.5  1.4  0.2  Iris-setosa\n",
      "1  4.9  3.0  1.4  0.2  Iris-setosa\n",
      "2  4.7  3.2  1.3  0.2  Iris-setosa\n",
      "3  4.6  3.1  1.5  0.2  Iris-setosa\n",
      "4  5.0  3.6  1.4  0.2  Iris-setosa\n",
      "0    float64\n",
      "1    float64\n",
      "2    float64\n",
      "3    float64\n",
      "4     object\n",
      "dtype: object\n"
     ]
    }
   ],
   "execution_count": 19
  },
  {
   "metadata": {},
   "cell_type": "markdown",
   "source": "info() is the same like str() in R",
   "id": "fc040fcb293a7009"
  },
  {
   "metadata": {
    "ExecuteTime": {
     "end_time": "2025-10-03T08:53:42.458435Z",
     "start_time": "2025-10-03T08:53:42.448844Z"
    }
   },
   "cell_type": "code",
   "outputs": [
    {
     "name": "stdout",
     "output_type": "stream",
     "text": [
      "<class 'pandas.core.frame.DataFrame'>\n",
      "RangeIndex: 151 entries, 0 to 150\n",
      "Data columns (total 5 columns):\n",
      " #   Column  Non-Null Count  Dtype  \n",
      "---  ------  --------------  -----  \n",
      " 0   0       151 non-null    float64\n",
      " 1   1       150 non-null    float64\n",
      " 2   2       151 non-null    float64\n",
      " 3   3       151 non-null    object \n",
      " 4   4       151 non-null    object \n",
      "dtypes: float64(3), object(2)\n",
      "memory usage: 6.0+ KB\n",
      "None\n",
      "<class 'pandas.core.frame.DataFrame'>\n",
      "RangeIndex: 150 entries, 0 to 149\n",
      "Data columns (total 5 columns):\n",
      " #   Column  Non-Null Count  Dtype  \n",
      "---  ------  --------------  -----  \n",
      " 0   0       150 non-null    float64\n",
      " 1   1       150 non-null    float64\n",
      " 2   2       150 non-null    float64\n",
      " 3   3       150 non-null    float64\n",
      " 4   4       150 non-null    object \n",
      "dtypes: float64(4), object(1)\n",
      "memory usage: 6.0+ KB\n",
      "None\n"
     ]
    }
   ],
   "execution_count": 20,
   "source": [
    "print(dirty_df.info())\n",
    "print(clean_df.info())"
   ],
   "id": "9e3532b21c93e3ee"
  },
  {
   "metadata": {},
   "cell_type": "markdown",
   "source": [
    "In the summary statistics we can see that column 3 is missing because its an object\n",
    "Additionally we can see in the max values that we have an outlier"
   ],
   "id": "af732ba3441e2446"
  },
  {
   "metadata": {
    "ExecuteTime": {
     "end_time": "2025-10-03T08:57:16.566579Z",
     "start_time": "2025-10-03T08:57:16.546422Z"
    }
   },
   "cell_type": "code",
   "outputs": [
    {
     "name": "stdout",
     "output_type": "stream",
     "text": [
      "                0           1           2\n",
      "count  151.000000  150.000000  151.000000\n",
      "mean     6.196689    3.057333    3.764901\n",
      "std      4.324325    0.432776    1.760197\n",
      "min      4.300000    2.000000    1.000000\n",
      "25%      5.100000    2.800000    1.600000\n",
      "50%      5.800000    3.000000    4.400000\n",
      "75%      6.400000    3.300000    5.100000\n",
      "max     58.000000    4.400000    6.900000\n",
      "                0           1           2           3\n",
      "count  150.000000  150.000000  150.000000  150.000000\n",
      "mean     5.843333    3.054000    3.758667    1.198667\n",
      "std      0.828066    0.433594    1.764420    0.763161\n",
      "min      4.300000    2.000000    1.000000    0.100000\n",
      "25%      5.100000    2.800000    1.600000    0.300000\n",
      "50%      5.800000    3.000000    4.350000    1.300000\n",
      "75%      6.400000    3.300000    5.100000    1.800000\n",
      "max      7.900000    4.400000    6.900000    2.500000\n"
     ]
    }
   ],
   "execution_count": 25,
   "source": [
    "print(dirty_df.describe())\n",
    "print(clean_df.describe())\n"
   ],
   "id": "34740685c0f1bfc3"
  },
  {
   "metadata": {},
   "cell_type": "markdown",
   "source": "We can see that also clean data set has duplicates, but it is not",
   "id": "8cac75b405cd3511"
  },
  {
   "metadata": {
    "ExecuteTime": {
     "end_time": "2025-10-03T09:04:41.348130Z",
     "start_time": "2025-10-03T09:04:41.340785Z"
    }
   },
   "cell_type": "code",
   "source": [
    "duplicates_dirty =dirty_df.duplicated()\n",
    "duplicates_clean = clean_df.duplicated()\n",
    "\n",
    "print(dirty_df[duplicates_dirty])\n",
    "print(clean_df[duplicates_clean])"
   ],
   "id": "57323e02d60495d4",
   "outputs": [
    {
     "name": "stdout",
     "output_type": "stream",
     "text": [
      "       0    1    2      3                4\n",
      "34   4.9  3.1  1.5   1 mm      Iris-setosa\n",
      "37   4.9  3.1  1.5   1 mm      Iris-setosa\n",
      "100  7.0  3.2  4.7  14 mm  Iris-versicolor\n",
      "       0    1    2    3               4\n",
      "34   4.9  3.1  1.5  0.1     Iris-setosa\n",
      "37   4.9  3.1  1.5  0.1     Iris-setosa\n",
      "142  5.8  2.7  5.1  1.9  Iris-virginica\n"
     ]
    }
   ],
   "execution_count": 35
  },
  {
   "metadata": {},
   "cell_type": "markdown",
   "source": "Fix Datatype to float",
   "id": "22b67ec228750af1"
  },
  {
   "metadata": {
    "ExecuteTime": {
     "end_time": "2025-10-03T09:12:38.453252Z",
     "start_time": "2025-10-03T09:12:38.409667Z"
    }
   },
   "cell_type": "code",
   "source": [
    "dirty_df[3] = dirty_df[3].str.replace(\"mm\", \"\") # Remove mm\n",
    "dirty_df[3] = dirty_df[3].astype(float)\n",
    "print(dirty_df.info())"
   ],
   "id": "cda675ef9ac1ae1f",
   "outputs": [
    {
     "ename": "AttributeError",
     "evalue": "Can only use .str accessor with string values!",
     "output_type": "error",
     "traceback": [
      "\u001B[31m---------------------------------------------------------------------------\u001B[39m",
      "\u001B[31mAttributeError\u001B[39m                            Traceback (most recent call last)",
      "\u001B[36mCell\u001B[39m\u001B[36m \u001B[39m\u001B[32mIn[40]\u001B[39m\u001B[32m, line 1\u001B[39m\n\u001B[32m----> \u001B[39m\u001B[32m1\u001B[39m dirty_df[\u001B[32m3\u001B[39m] = \u001B[43mdirty_df\u001B[49m\u001B[43m[\u001B[49m\u001B[32;43m3\u001B[39;49m\u001B[43m]\u001B[49m\u001B[43m.\u001B[49m\u001B[43mstr\u001B[49m.replace(\u001B[33m\"\u001B[39m\u001B[33mmm\u001B[39m\u001B[33m\"\u001B[39m, \u001B[33m\"\u001B[39m\u001B[33m\"\u001B[39m) \u001B[38;5;66;03m# Remove mm\u001B[39;00m\n\u001B[32m      2\u001B[39m dirty_df[\u001B[32m3\u001B[39m] = dirty_df[\u001B[32m3\u001B[39m].astype(\u001B[38;5;28mfloat\u001B[39m)\n\u001B[32m      3\u001B[39m \u001B[38;5;28mprint\u001B[39m(dirty_df.info())\n",
      "\u001B[36mFile \u001B[39m\u001B[32m~\\Documents\\cip_workspace\\.venv\\Lib\\site-packages\\pandas\\core\\generic.py:6318\u001B[39m, in \u001B[36mNDFrame.__getattr__\u001B[39m\u001B[34m(self, name)\u001B[39m\n\u001B[32m   6311\u001B[39m \u001B[38;5;28;01mif\u001B[39;00m (\n\u001B[32m   6312\u001B[39m     name \u001B[38;5;129;01mnot\u001B[39;00m \u001B[38;5;129;01min\u001B[39;00m \u001B[38;5;28mself\u001B[39m._internal_names_set\n\u001B[32m   6313\u001B[39m     \u001B[38;5;129;01mand\u001B[39;00m name \u001B[38;5;129;01mnot\u001B[39;00m \u001B[38;5;129;01min\u001B[39;00m \u001B[38;5;28mself\u001B[39m._metadata\n\u001B[32m   6314\u001B[39m     \u001B[38;5;129;01mand\u001B[39;00m name \u001B[38;5;129;01mnot\u001B[39;00m \u001B[38;5;129;01min\u001B[39;00m \u001B[38;5;28mself\u001B[39m._accessors\n\u001B[32m   6315\u001B[39m     \u001B[38;5;129;01mand\u001B[39;00m \u001B[38;5;28mself\u001B[39m._info_axis._can_hold_identifiers_and_holds_name(name)\n\u001B[32m   6316\u001B[39m ):\n\u001B[32m   6317\u001B[39m     \u001B[38;5;28;01mreturn\u001B[39;00m \u001B[38;5;28mself\u001B[39m[name]\n\u001B[32m-> \u001B[39m\u001B[32m6318\u001B[39m \u001B[38;5;28;01mreturn\u001B[39;00m \u001B[38;5;28;43mobject\u001B[39;49m\u001B[43m.\u001B[49m\u001B[34;43m__getattribute__\u001B[39;49m\u001B[43m(\u001B[49m\u001B[38;5;28;43mself\u001B[39;49m\u001B[43m,\u001B[49m\u001B[43m \u001B[49m\u001B[43mname\u001B[49m\u001B[43m)\u001B[49m\n",
      "\u001B[36mFile \u001B[39m\u001B[32m~\\Documents\\cip_workspace\\.venv\\Lib\\site-packages\\pandas\\core\\accessor.py:224\u001B[39m, in \u001B[36mCachedAccessor.__get__\u001B[39m\u001B[34m(self, obj, cls)\u001B[39m\n\u001B[32m    221\u001B[39m \u001B[38;5;28;01mif\u001B[39;00m obj \u001B[38;5;129;01mis\u001B[39;00m \u001B[38;5;28;01mNone\u001B[39;00m:\n\u001B[32m    222\u001B[39m     \u001B[38;5;66;03m# we're accessing the attribute of the class, i.e., Dataset.geo\u001B[39;00m\n\u001B[32m    223\u001B[39m     \u001B[38;5;28;01mreturn\u001B[39;00m \u001B[38;5;28mself\u001B[39m._accessor\n\u001B[32m--> \u001B[39m\u001B[32m224\u001B[39m accessor_obj = \u001B[38;5;28;43mself\u001B[39;49m\u001B[43m.\u001B[49m\u001B[43m_accessor\u001B[49m\u001B[43m(\u001B[49m\u001B[43mobj\u001B[49m\u001B[43m)\u001B[49m\n\u001B[32m    225\u001B[39m \u001B[38;5;66;03m# Replace the property with the accessor object. Inspired by:\u001B[39;00m\n\u001B[32m    226\u001B[39m \u001B[38;5;66;03m# https://www.pydanny.com/cached-property.html\u001B[39;00m\n\u001B[32m    227\u001B[39m \u001B[38;5;66;03m# We need to use object.__setattr__ because we overwrite __setattr__ on\u001B[39;00m\n\u001B[32m    228\u001B[39m \u001B[38;5;66;03m# NDFrame\u001B[39;00m\n\u001B[32m    229\u001B[39m \u001B[38;5;28mobject\u001B[39m.\u001B[34m__setattr__\u001B[39m(obj, \u001B[38;5;28mself\u001B[39m._name, accessor_obj)\n",
      "\u001B[36mFile \u001B[39m\u001B[32m~\\Documents\\cip_workspace\\.venv\\Lib\\site-packages\\pandas\\core\\strings\\accessor.py:194\u001B[39m, in \u001B[36mStringMethods.__init__\u001B[39m\u001B[34m(self, data)\u001B[39m\n\u001B[32m    191\u001B[39m \u001B[38;5;28;01mdef\u001B[39;00m\u001B[38;5;250m \u001B[39m\u001B[34m__init__\u001B[39m(\u001B[38;5;28mself\u001B[39m, data) -> \u001B[38;5;28;01mNone\u001B[39;00m:\n\u001B[32m    192\u001B[39m     \u001B[38;5;28;01mfrom\u001B[39;00m\u001B[38;5;250m \u001B[39m\u001B[34;01mpandas\u001B[39;00m\u001B[34;01m.\u001B[39;00m\u001B[34;01mcore\u001B[39;00m\u001B[34;01m.\u001B[39;00m\u001B[34;01marrays\u001B[39;00m\u001B[34;01m.\u001B[39;00m\u001B[34;01mstring_\u001B[39;00m\u001B[38;5;250m \u001B[39m\u001B[38;5;28;01mimport\u001B[39;00m StringDtype\n\u001B[32m--> \u001B[39m\u001B[32m194\u001B[39m     \u001B[38;5;28mself\u001B[39m._inferred_dtype = \u001B[38;5;28;43mself\u001B[39;49m\u001B[43m.\u001B[49m\u001B[43m_validate\u001B[49m\u001B[43m(\u001B[49m\u001B[43mdata\u001B[49m\u001B[43m)\u001B[49m\n\u001B[32m    195\u001B[39m     \u001B[38;5;28mself\u001B[39m._is_categorical = \u001B[38;5;28misinstance\u001B[39m(data.dtype, CategoricalDtype)\n\u001B[32m    196\u001B[39m     \u001B[38;5;28mself\u001B[39m._is_string = \u001B[38;5;28misinstance\u001B[39m(data.dtype, StringDtype)\n",
      "\u001B[36mFile \u001B[39m\u001B[32m~\\Documents\\cip_workspace\\.venv\\Lib\\site-packages\\pandas\\core\\strings\\accessor.py:248\u001B[39m, in \u001B[36mStringMethods._validate\u001B[39m\u001B[34m(data)\u001B[39m\n\u001B[32m    245\u001B[39m inferred_dtype = lib.infer_dtype(values, skipna=\u001B[38;5;28;01mTrue\u001B[39;00m)\n\u001B[32m    247\u001B[39m \u001B[38;5;28;01mif\u001B[39;00m inferred_dtype \u001B[38;5;129;01mnot\u001B[39;00m \u001B[38;5;129;01min\u001B[39;00m allowed_types:\n\u001B[32m--> \u001B[39m\u001B[32m248\u001B[39m     \u001B[38;5;28;01mraise\u001B[39;00m \u001B[38;5;167;01mAttributeError\u001B[39;00m(\u001B[33m\"\u001B[39m\u001B[33mCan only use .str accessor with string values!\u001B[39m\u001B[33m\"\u001B[39m)\n\u001B[32m    249\u001B[39m \u001B[38;5;28;01mreturn\u001B[39;00m inferred_dtype\n",
      "\u001B[31mAttributeError\u001B[39m: Can only use .str accessor with string values!"
     ]
    }
   ],
   "execution_count": 40
  },
  {
   "metadata": {
    "ExecuteTime": {
     "end_time": "2025-10-03T09:18:16.556230Z",
     "start_time": "2025-10-03T09:18:16.545369Z"
    }
   },
   "cell_type": "code",
   "source": [
    "q_low = dirty_df[0].quantile(0.01)\n",
    "q_high = dirty_df [0].quantile(0.99)\n",
    "\n",
    "dirty_df_cleaned = dirty_df[(dirty_df[0] >= q_low) & (dirty_df[0] <= q_high)]\n",
    "\n",
    "dirty_df_cleaned.describe()\n"
   ],
   "id": "73ff088cc8a725a2",
   "outputs": [
    {
     "data": {
      "text/plain": [
       "                0           1           2           3\n",
       "count  148.000000  147.000000  148.000000  148.000000\n",
       "mean     5.847973    3.055102    3.756081   11.972973\n",
       "std      0.811857    0.431814    1.747505    7.580808\n",
       "min      4.400000    2.000000    1.000000    1.000000\n",
       "25%      5.100000    2.800000    1.600000    3.000000\n",
       "50%      5.800000    3.000000    4.350000   13.000000\n",
       "75%      6.400000    3.300000    5.100000   18.000000\n",
       "max      7.700000    4.400000    6.900000   25.000000"
      ],
      "text/html": [
       "<div>\n",
       "<style scoped>\n",
       "    .dataframe tbody tr th:only-of-type {\n",
       "        vertical-align: middle;\n",
       "    }\n",
       "\n",
       "    .dataframe tbody tr th {\n",
       "        vertical-align: top;\n",
       "    }\n",
       "\n",
       "    .dataframe thead th {\n",
       "        text-align: right;\n",
       "    }\n",
       "</style>\n",
       "<table border=\"1\" class=\"dataframe\">\n",
       "  <thead>\n",
       "    <tr style=\"text-align: right;\">\n",
       "      <th></th>\n",
       "      <th>0</th>\n",
       "      <th>1</th>\n",
       "      <th>2</th>\n",
       "      <th>3</th>\n",
       "    </tr>\n",
       "  </thead>\n",
       "  <tbody>\n",
       "    <tr>\n",
       "      <th>count</th>\n",
       "      <td>148.000000</td>\n",
       "      <td>147.000000</td>\n",
       "      <td>148.000000</td>\n",
       "      <td>148.000000</td>\n",
       "    </tr>\n",
       "    <tr>\n",
       "      <th>mean</th>\n",
       "      <td>5.847973</td>\n",
       "      <td>3.055102</td>\n",
       "      <td>3.756081</td>\n",
       "      <td>11.972973</td>\n",
       "    </tr>\n",
       "    <tr>\n",
       "      <th>std</th>\n",
       "      <td>0.811857</td>\n",
       "      <td>0.431814</td>\n",
       "      <td>1.747505</td>\n",
       "      <td>7.580808</td>\n",
       "    </tr>\n",
       "    <tr>\n",
       "      <th>min</th>\n",
       "      <td>4.400000</td>\n",
       "      <td>2.000000</td>\n",
       "      <td>1.000000</td>\n",
       "      <td>1.000000</td>\n",
       "    </tr>\n",
       "    <tr>\n",
       "      <th>25%</th>\n",
       "      <td>5.100000</td>\n",
       "      <td>2.800000</td>\n",
       "      <td>1.600000</td>\n",
       "      <td>3.000000</td>\n",
       "    </tr>\n",
       "    <tr>\n",
       "      <th>50%</th>\n",
       "      <td>5.800000</td>\n",
       "      <td>3.000000</td>\n",
       "      <td>4.350000</td>\n",
       "      <td>13.000000</td>\n",
       "    </tr>\n",
       "    <tr>\n",
       "      <th>75%</th>\n",
       "      <td>6.400000</td>\n",
       "      <td>3.300000</td>\n",
       "      <td>5.100000</td>\n",
       "      <td>18.000000</td>\n",
       "    </tr>\n",
       "    <tr>\n",
       "      <th>max</th>\n",
       "      <td>7.700000</td>\n",
       "      <td>4.400000</td>\n",
       "      <td>6.900000</td>\n",
       "      <td>25.000000</td>\n",
       "    </tr>\n",
       "  </tbody>\n",
       "</table>\n",
       "</div>"
      ]
     },
     "execution_count": 48,
     "metadata": {},
     "output_type": "execute_result"
    }
   ],
   "execution_count": 48
  }
 ],
 "metadata": {
  "kernelspec": {
   "display_name": "Python 3",
   "language": "python",
   "name": "python3"
  },
  "language_info": {
   "codemirror_mode": {
    "name": "ipython",
    "version": 2
   },
   "file_extension": ".py",
   "mimetype": "text/x-python",
   "name": "python",
   "nbconvert_exporter": "python",
   "pygments_lexer": "ipython2",
   "version": "2.7.6"
  }
 },
 "nbformat": 4,
 "nbformat_minor": 5
}
